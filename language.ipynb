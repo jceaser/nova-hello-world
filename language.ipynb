{
 "cells": [
  {
   "cell_type": "markdown",
   "metadata": {},
   "source": [
    "# Programing Language Features\n",
    "\n",
    "Most languages have a common set of features which humans use to capture our concepts and actions."
   ]
  },
  {
   "cell_type": "markdown",
   "metadata": {},
   "source": [
    "## Basics\n",
    "\n",
    "### Comments\n",
    "\n",
    "It is HIGHLY recomended that you put \"notes\" in your code. Anything funny, strange logic who's meaning you think you will forget, document it with a comment. Python uses the pound sign for single line commends and a pair of tripple double-quotes for multi line comments."
   ]
  },
  {
   "cell_type": "code",
   "execution_count": null,
   "metadata": {},
   "outputs": [],
   "source": [
    "# print(\"ignore this line\")\n",
    "print(\"print this line\") #you can even add comments to the end of things\n",
    "\"\"\"\n",
    "This text will be ignored\n",
    "print(\"a block of code to ignore\")\n",
    "print(\"also ignored, in the same block)\n",
    "\"\"\"\n",
    "print(\"also print this, note the section that was ignored\")"
   ]
  },
  {
   "cell_type": "markdown",
   "metadata": {},
   "source": [
    "### functions, intro\n",
    "\n",
    "functions are blocks of code pre-made and ready to use. There an tons of built in functions, we will go more into functions latter, but for now, know that functions look like this:\n",
    "\n",
    "`print (someting-to-print-goes-here)`\n",
    "\n",
    "The print function will take a string (more about that latter) and out put it for the user to read."
   ]
  },
  {
   "cell_type": "markdown",
   "metadata": {},
   "source": [
    "### Structure\n",
    "\n",
    "Python requires that some things go on the same line, while other things go on the next line. Also `tabs` are important. Tabs should be either a real tab key, or 4 spaces. Indenting like this tell python that the code that is indented belongs to the code that is not. These concepts will be shown more latter, but it looks like this:"
   ]
  },
  {
   "cell_type": "code",
   "execution_count": null,
   "metadata": {},
   "outputs": [],
   "source": [
    "if True:\n",
    "    print (\"must be true\")\n",
    "    print (\"another task when true\")"
   ]
  },
  {
   "cell_type": "markdown",
   "metadata": {},
   "source": [
    "## Variables\n",
    "Values are held in variables which are named locations in memory. The values are used in math and also hold the results of math."
   ]
  },
  {
   "cell_type": "code",
   "execution_count": null,
   "metadata": {},
   "outputs": [],
   "source": [
    "a = 10\n",
    "print (a)\n",
    "a = a * 2\n",
    "print (a)\n",
    "a = a + 2\n",
    "print (a)\n",
    "b = a\n",
    "print (\"a:\", a, \"b:\", b)\n",
    "b = b - 2\n",
    "print (\"a:\", a, \"b:\", b)\n"
   ]
  },
  {
   "cell_type": "markdown",
   "metadata": {},
   "source": [
    "In Python you can put many different types of data into a variable. Python does not make you declare what kind of data a variable will hold, but does keep track of the type it is. This sometimes matters when using the value, but most of the time it is transparent."
   ]
  },
  {
   "cell_type": "code",
   "execution_count": null,
   "metadata": {},
   "outputs": [],
   "source": [
    "number = 42 # an integar\n",
    "print (number, type(number))\n",
    "\n",
    "pi = 3.14 # a float\n",
    "print (pi, type(pi))\n",
    "\n",
    "on_off = True # a boolean\n",
    "print (on_off, type(on_off))\n",
    "on_off = False # a boolean\n",
    "print (on_off, type(on_off))\n",
    "\n",
    "text = 'Strings are a string of charactors' # string\n",
    "print (text, type(text))\n",
    "\n",
    "grades = [42, 24, 0, 100] # list of values\n",
    "print (grades, type(grades))\n",
    "\n",
    "data = {'name': 'Thomas'}\n",
    "print (data, type(data))\n",
    "print (data['name'])"
   ]
  },
  {
   "cell_type": "markdown",
   "metadata": {},
   "source": [
    "Most of the time, you don't have to worry to much about type, the booleans, and numbers work pretty well together, but some functions and commands require specific types. Here is a case where type matters, try uncommenting out the second len()"
   ]
  },
  {
   "cell_type": "code",
   "execution_count": null,
   "metadata": {},
   "outputs": [],
   "source": [
    "a = 'text'\n",
    "b = 3.14\n",
    "try:\n",
    "    print (a + b)\n",
    "except:\n",
    "    print (\"b must not be a string\")\n",
    "\n",
    "print (a + str(b))\n",
    "\n",
    "len(a)\n",
    "#len(b)"
   ]
  },
  {
   "cell_type": "markdown",
   "metadata": {},
   "source": [
    "Nova award wants you to know about URLs, Python does not have a URL type and I don't know of any language that does have a native URL type, but here is an example of a URL being processed with the urllib library which is built into Python. We can look more at URLs at another time and how you would download data from a service."
   ]
  },
  {
   "cell_type": "code",
   "execution_count": null,
   "metadata": {},
   "outputs": [],
   "source": [
    "from urllib.parse import urlunsplit, urlencode\n",
    "\n",
    "# build the URL https://thomascherry.name/cgi-bin/noaa.cgi?location=21228\n",
    "\n",
    "query = urlencode({'location': 21228})\n",
    "# sometimes programs like to swap out different parts while keeping the other parts the same\n",
    "parts = ('https', 'thomascherry.name', '/cgi-bin/noaa.cgi', query, '')\n",
    "weather = urlunsplit(parts) # put all the parts together\n",
    "print (weather, type(weather))"
   ]
  },
  {
   "cell_type": "markdown",
   "metadata": {},
   "source": [
    "That is cool and all, but how about we use it for something, lets download what the url is pointing to and try to use it:"
   ]
  },
  {
   "cell_type": "code",
   "execution_count": null,
   "metadata": {},
   "outputs": [],
   "source": [
    "import urllib\n",
    "import json\n",
    "\n",
    "weather_data = json.loads(urllib.request.urlopen(weather).read())\n",
    "print(weather_data)\n",
    "print (\"\\nNow break out the output\")\n"
   ]
  },
  {
   "cell_type": "markdown",
   "metadata": {},
   "source": [
    "Now just get a part of the data, like the section marked as \"output\":"
   ]
  },
  {
   "cell_type": "code",
   "execution_count": null,
   "metadata": {},
   "outputs": [],
   "source": [
    "weather_data[\"output\"]"
   ]
  },
  {
   "cell_type": "markdown",
   "metadata": {},
   "source": [
    "## Operators (math-ish stuff)\n",
    "\n",
    "Most languages have operators that work on 1, 2 or 3 values, these are mostly math like and are the following:<br>\n",
    "`+` `-` `*` `/` `//` `**` `%`\n",
    "\n",
    "Assignment operators are:<br>\n",
    "`=` plus any of the above paired with `=` like `+=`\n",
    "\n",
    "Comparison operators are:<br>\n",
    "`==`, `!=`, `>`, `<`, `>=`, `<=`\n",
    "\n",
    "Logical Operators, which returns a boolean:<br>\n",
    "`and`, `or`, `not`\n",
    "\n",
    "Identity Operater, which returns a boolean:<br>\n",
    "`is`, `is not`\n",
    "\n",
    "Membership Operator, which returns a boolean:<br>\n",
    "`in`, `not in`\n",
    "\n",
    "Bit wise operators, math operators but in a boolean way:<br>\n",
    "And: `&`,  Or: `|`, Xor: `^`, NOT: `~`, Left Shift: `<<`, Right Shift: `>>`"
   ]
  },
  {
   "cell_type": "code",
   "execution_count": null,
   "metadata": {},
   "outputs": [],
   "source": [
    "print (10 ** 2)\n",
    "print (2 << 2 ) # 2 is 0010 which becames 1000 which is 8\n",
    "a = 2\n",
    "b = 2.0\n",
    "print (True and False)\n",
    "print (\"equals vs is:\", a == b, 'vs', a is b)\n",
    "print (\"different cases of in: \", 2 in [1, 2, 3, 4], \"vs\", 5 in [1, 2, 3, 4])"
   ]
  },
  {
   "cell_type": "markdown",
   "metadata": {},
   "source": [
    "## Flow Control\n",
    "\n",
    "So simple math is cool and all, but that if you need to make choices or repeat a task. We will look at the following:\n",
    "* `if/else` statments\n",
    "* `While` loop\n",
    "* `Do-While` loop (python fake)\n",
    "* `For` loop"
   ]
  },
  {
   "cell_type": "code",
   "execution_count": null,
   "metadata": {},
   "outputs": [],
   "source": [
    "# do something only if you need to\n",
    "a = 10\n",
    "b = 20\n",
    "if a < b:\n",
    "    print (\"a is small\")\n",
    "\n",
    "# do either of two things\n",
    "\n",
    "if a > b:\n",
    "    print (\"a is small\")\n",
    "else:\n",
    "    print (\"b is large\")"
   ]
  },
  {
   "cell_type": "code",
   "execution_count": null,
   "metadata": {},
   "outputs": [],
   "source": [
    "# A basic while loop, do something a set number of times, or while a statment is true\n",
    "a = 5\n",
    "while (a > 0):\n",
    "    print (\"A:\", a)\n",
    "    a -= 1"
   ]
  },
  {
   "cell_type": "markdown",
   "metadata": {},
   "source": [
    "Python does not have an explicit form for creating a Do-While loop, but one can be emulated. The basic difference between a while loop and a do thile loop is that a while loop makes it's check first, then executes code, so it is posible to never run the containing code. A do-while loop makes it's check after running the code, so it will always run at least once"
   ]
  },
  {
   "cell_type": "code",
   "execution_count": null,
   "metadata": {},
   "outputs": [],
   "source": [
    "condition = 42\n",
    "while True:\n",
    "    #normally this would go forever, but we put in a condition to get out AFTER we do some work\n",
    "    print (\"Condition is:\", condition)\n",
    "    condition -= 8\n",
    "    if condition < 0:\n",
    "        break"
   ]
  },
  {
   "cell_type": "markdown",
   "metadata": {},
   "source": [
    "Next we have the for loop which comes in several forms"
   ]
  },
  {
   "cell_type": "code",
   "execution_count": null,
   "metadata": {},
   "outputs": [],
   "source": [
    "for a in [1, 2 , 4, 8, 16]:\n",
    "    print (\"A:\", a)\n",
    "\n",
    "print (\"----\")\n",
    "\n",
    "for a in range(4):\n",
    "    print (\"A:\", a)"
   ]
  },
  {
   "cell_type": "markdown",
   "metadata": {},
   "source": [
    "Lets put much of this together and write something usefull. Lets ask the user for a bunch of numbers, then find the average of those numbers."
   ]
  },
  {
   "cell_type": "code",
   "execution_count": null,
   "metadata": {},
   "outputs": [],
   "source": [
    "searching = True\n",
    "grades = []\n",
    "while searching:\n",
    "    raw_value = input(\"Enter in a grade, or no value to end\")\n",
    "    if raw_value == \"\" or raw_value == \"done\":\n",
    "        searching = False\n",
    "    elif raw_value.isdigit():\n",
    "        number = int(raw_value) # input returns a string, lets make this a number\n",
    "        grades.append(number)\n",
    "if len(grades)>0:\n",
    "    sum = 0\n",
    "    for item in grades:\n",
    "        sum += item\n",
    "    count = len(grades)\n",
    "    avg = sum / count\n",
    "    print (f\"{grades} -> ({sum}/{count}) which has an average of {avg}\")"
   ]
  },
  {
   "cell_type": "markdown",
   "metadata": {},
   "source": [
    "## Functions\n",
    "Functions allow you to write code once and use it in multiple places, it also helps you organize your code into parts making the code easier to understand. Functions have names and can take inputs and give outputs. Here is a basic function:"
   ]
  },
  {
   "cell_type": "code",
   "execution_count": 35,
   "metadata": {},
   "outputs": [
    {
     "name": "stdout",
     "output_type": "stream",
     "text": [
      "This Is My Title\n",
      "Make The Call Again With Differt Values\n"
     ]
    }
   ],
   "source": [
    "def title_case(words):\n",
    "    ret = '' # name an empty string to return when we are done\n",
    "\n",
    "    # look at each word\n",
    "    for word in words.split(' '):\n",
    "        # upper case the first letter, lower case all the others\n",
    "        ret += word[0].upper() + word[1:].lower() + ' '\n",
    "    ret = ret.strip(' ') # get rid of the extra space at the end\n",
    "    return ret\n",
    "\n",
    "print(title_case(\"tHIS iS my title\"))\n",
    "print(title_case(\"make the call again with differt values\"))"
   ]
  }
 ],
 "metadata": {
  "kernelspec": {
   "display_name": "Python 3.9.13 64-bit",
   "language": "python",
   "name": "python3"
  },
  "language_info": {
   "codemirror_mode": {
    "name": "ipython",
    "version": 3
   },
   "file_extension": ".py",
   "mimetype": "text/x-python",
   "name": "python",
   "nbconvert_exporter": "python",
   "pygments_lexer": "ipython3",
   "version": "3.9.13"
  },
  "orig_nbformat": 4,
  "vscode": {
   "interpreter": {
    "hash": "b0fa6594d8f4cbf19f97940f81e996739fb7646882a419484c72d19e05852a7e"
   }
  }
 },
 "nbformat": 4,
 "nbformat_minor": 2
}
